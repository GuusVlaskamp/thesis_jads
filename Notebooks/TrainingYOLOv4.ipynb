{
  "nbformat": 4,
  "nbformat_minor": 0,
  "metadata": {
    "accelerator": "GPU",
    "colab": {
      "name": "TrainingYOLOv4.ipynb",
      "provenance": [],
      "collapsed_sections": [],
      "machine_shape": "hm"
    },
    "kernelspec": {
      "display_name": "Python 3",
      "name": "python3"
    }
  },
  "cells": [
    {
      "cell_type": "markdown",
      "metadata": {
        "id": "CTqTBmNwtj7F"
      },
      "source": [
        "## Mount with your Google Drive"
      ]
    },
    {
      "cell_type": "code",
      "metadata": {
        "id": "6ZBqlVeQtY0O"
      },
      "source": [
        "from google.colab import drive\n",
        "drive.mount('/content/drive')"
      ],
      "execution_count": null,
      "outputs": []
    },
    {
      "cell_type": "markdown",
      "metadata": {
        "id": "HalkELEPW0Xk"
      },
      "source": [
        "## Setup darknet environment"
      ]
    },
    {
      "cell_type": "code",
      "metadata": {
        "id": "okwkvOmyRV5S"
      },
      "source": [
        "!nvidia-smi"
      ],
      "execution_count": null,
      "outputs": []
    },
    {
      "cell_type": "code",
      "metadata": {
        "id": "chLx6CYonvRq"
      },
      "source": [
        "import os\n",
        "import cv2\n",
        "cv2.__version__\n",
        "\n",
        "%cd /content\n",
        "assert os.getcwd()=='/content', 'Directory should be \"/content\" instead of \"{}\"'.format(os.getcwd())\n",
        "\n",
        "# remove the existing folder\n",
        "!rm -r darknet_for_colab\n",
        "\n",
        "# download and compile darknet_for_colab\n",
        "!git clone https://github.com/quangnhat185/darknet_for_colab.git\n",
        "%cd darknet_for_colab\n",
        "\n",
        "!sed -i '21d' /content/darknet_for_colab/Makefile  \n",
        "!sed -i '21d' /content/darknet_for_colab/Makefile  \n",
        "!sed -i '21d' /content/darknet_for_colab/Makefile  \n",
        "!sed -i '21d' /content/darknet_for_colab/Makefile  \n",
        "!sed -i '20 s@-gencode arch=compute_30,code=sm_30\\ @-gencode arch=compute_70,code=[sm_70,compute_70]@' /content/darknet_for_colab/Makefile #V100\n",
        "# !sed -i '20 s@-gencode arch=compute_30,code=sm_30\\ @-gencode arch=compute_60,code=sm_60@' /content/darknet_for_colab/Makefile #P100\n",
        "!sed -i '3 s@CUDNN_HALF=0@CUDNN_HALF=1@' /content/darknet_for_colab/Makefile \n",
        "!sed -i '5 s@AVX=0@AVX=1@' /content/darknet_for_colab/Makefile \n",
        "!sed -i '6 s@OPENMP=0@OPENMP=1@' /content/darknet_for_colab/Makefile  \n",
        "\n",
        "!make\n",
        "!chmod +x ./darknet"
      ],
      "execution_count": null,
      "outputs": []
    },
    {
      "cell_type": "markdown",
      "metadata": {
        "id": "Lxj5xT4RXorl"
      },
      "source": [
        "## Download yolov4 pre-trained weights"
      ]
    },
    {
      "cell_type": "code",
      "metadata": {
        "id": "fR_c5rzB1CMM"
      },
      "source": [
        "assert os.getcwd()=='/content/darknet_for_colab', 'Directory should be \"/content/darknet_for_colab\" instead of \"{}\"'.format(os.getcwd())\n",
        "!wget https://github.com/AlexeyAB/darknet/releases/download/darknet_yolo_v3_optimal/yolov4.conv.137"
      ],
      "execution_count": null,
      "outputs": []
    },
    {
      "cell_type": "markdown",
      "metadata": {
        "id": "13uuLYmGX0Fu"
      },
      "source": [
        "## Download and visualise dataset"
      ]
    },
    {
      "cell_type": "code",
      "metadata": {
        "id": "xXoTHpNjO3uC"
      },
      "source": [
        "!rm /content/darknet_for_colab/data -r\n",
        "!mkdir /content/darknet_for_colab/data\n",
        "%cd /content/darknet_for_colab/data\n",
        "!unzip /content/drive/MyDrive/YOLOv4_weight/yolo_monologo_labelled.zip \n",
        "\n",
        "%cd /content/darknet_for_colab\n",
        "\n",
        "import matplotlib.pyplot as plt\n",
        "import matplotlib.gridspec as gridspec\n",
        "import glob\n",
        "\n",
        "def read_label(image_path):\n",
        "  file_name = image_path.replace('.jpg', '.txt')\n",
        "  with open(file_name, 'rt') as file:\n",
        "    print(os.path.basename(file_name) + ': \\n' + file.read())\n",
        "\n",
        "image_path = glob.glob(\"data/ts/*.jpg\")\n",
        "fig = plt.figure(figsize=(12,8))\n",
        "cols = 2\n",
        "rows = 2\n",
        "grid = gridspec.GridSpec(nrows=rows, ncols=cols, figure=fig)\n",
        "for i in range(cols*rows):\n",
        "  fig.add_subplot(grid[i])\n",
        "  image=plt.imread(image_path[i])\n",
        "  plt.title(os.path.basename(image_path[i]))\n",
        "  plt.axis(False)\n",
        "  plt.imshow(image)\n",
        "  read_label(image_path[i])\n",
        "\n",
        "plt.savefig(\"dataset_examples.jpg\", dpi=300)"
      ],
      "execution_count": null,
      "outputs": []
    },
    {
      "cell_type": "markdown",
      "metadata": {
        "id": "187p7jTS5QVa"
      },
      "source": [
        "## Modify yolov4 architecture\n",
        "\n",
        " "
      ]
    },
    {
      "cell_type": "code",
      "metadata": {
        "id": "0b9zn7IF58fv"
      },
      "source": [
        "num_classes = 5\n",
        "num_batches = 5000 \n",
        "width = 1280\n",
        "height = 704\n",
        "num_subdiv = 64\n",
        "\n",
        "!sed -i '14 s@classes=4@classes={num_classes}@' /content/darknet_for_colab/yolov4_config.py\n",
        "!sed -i '15 s@max_batches=8000@max_batches={num_batches}@' /content/darknet_for_colab/yolov4_config.py\n",
        "!sed -i '17 s@subdivisions=16@subdivisions={num_subdiv}@' /content/darknet_for_colab/yolov4_config.py\n",
        "!sed -i '18 s@width=416@width={width}@' /content/darknet_for_colab/yolov4_config.py\n",
        "!sed -i '19 s@height=416@height={height}@' /content/darknet_for_colab/yolov4_config.py"
      ],
      "execution_count": null,
      "outputs": []
    },
    {
      "cell_type": "code",
      "metadata": {
        "id": "hJPivcaZ4sqA"
      },
      "source": [
        "%cd /content/darknet_for_colab \n",
        "!python yolov4_setup.py"
      ],
      "execution_count": null,
      "outputs": []
    },
    {
      "cell_type": "code",
      "metadata": {
        "id": "OUnyu3Gr6I_1"
      },
      "source": [
        "!rm /content/darknet_for_colab/backup -r\n",
        "!ln -s /content/drive/'MyDrive'/YOLOv4_weight/backup /content/darknet_for_colab"
      ],
      "execution_count": null,
      "outputs": []
    },
    {
      "cell_type": "markdown",
      "metadata": {
        "id": "tl5GHQf5ZEh3"
      },
      "source": [
        "## Training"
      ]
    },
    {
      "cell_type": "code",
      "metadata": {
        "id": "YISQ-JtJ3FKB"
      },
      "source": [
        "%%javascript\n",
        "function ClickConnect(){\n",
        "console.log(\"Working\");\n",
        "document.querySelector(\"colab-toolbar-button#connect\").click()\n",
        "}setInterval(ClickConnect,60000)"
      ],
      "execution_count": null,
      "outputs": []
    },
    {
      "cell_type": "code",
      "metadata": {
        "id": "c-y15gbmFieW"
      },
      "source": [
        "import matplotlib.pyplot as plt\n",
        "os.chdir('/content/darknet_for_colab/')\n",
        "!chmod +x darknet\n",
        "!./darknet detector train data/yolov4.data cfg/yolov4_custom_train.cfg yolov4.conv.137 -points 0 -map -dont_show 2> /dev/null\n",
        "fig = plt.figure(figsize=(10,10))\n",
        "train_result = plt.imread(\"chart.png\")\n",
        "plt.axis(False)\n",
        "plt.imshow(train_result)\n",
        "plt.savefig('training_fig.png')"
      ],
      "execution_count": null,
      "outputs": []
    },
    {
      "cell_type": "code",
      "metadata": {
        "id": "cC5H751RFiqY"
      },
      "source": [
        "!./darknet detector map data/yolov4.data cfg/yolov4_custom_test.cfg /content/drive/MyDrive/YOLOv4_weight/backup/yolov4_custom_train_best.weights"
      ],
      "execution_count": null,
      "outputs": []
    },
    {
      "cell_type": "markdown",
      "metadata": {
        "id": "FVJfL6dRZppP"
      },
      "source": [
        "## Test with example image/video"
      ]
    },
    {
      "cell_type": "code",
      "metadata": {
        "id": "1URDPsaKVTyd"
      },
      "source": [
        "%cd /content/darknet_for_colab\n",
        "%cp data/yolov4.data cfg/coco.data"
      ],
      "execution_count": null,
      "outputs": []
    },
    {
      "cell_type": "code",
      "metadata": {
        "id": "B9CiyhAg9big"
      },
      "source": [
        "assert os.getcwd()=='/content/darknet_for_colab', 'Directory should be \"/content/darknet_for_colab\" instead of \"{}\"'.format(os.getcwd())\n",
        "img_path = \"data/ts/frame1099.jpg\"\n",
        "!./darknet detect cfg/yolov4_custom_test.cfg /content/drive/MyDrive/YOLOv4_weight/backup/yolov4_custom_train_best.weights {img_path} -dont-show  "
      ],
      "execution_count": null,
      "outputs": []
    },
    {
      "cell_type": "code",
      "metadata": {
        "id": "gRKX-EmYev42"
      },
      "source": [
        "assert os.getcwd()=='/content/darknet_for_colab', 'Directory should be \"/content/darknet_for_colab\" instead of \"{}\"'.format(os.getcwd())\n",
        "\n",
        "import matplotlib.pyplot as plt \n",
        "fig = plt.figure(figsize=(12,12))\n",
        "plt.axis(False)\n",
        "processed_image = plt.imread(\"./predictions.jpg\")\n",
        "plt.imshow(processed_image)"
      ],
      "execution_count": null,
      "outputs": []
    },
    {
      "cell_type": "code",
      "metadata": {
        "id": "ygA5kNXo-qil"
      },
      "source": [
        "assert os.getcwd()=='/content/darknet_for_colab', 'Directory should be \"/content/darknet_for_colab\" instead of \"{}\"'.format(os.getcwd())\n",
        "# video processed\n",
        "!python darknet_video.py -v /content/test_vid.mp4 -c cfg/yolov4_custom_test.cfg -w /content/drive/MyDrive/YOLOv4_weight/backup/yolov4_custom_train_best.weights -o output.mp4"
      ],
      "execution_count": null,
      "outputs": []
    }
  ]
}