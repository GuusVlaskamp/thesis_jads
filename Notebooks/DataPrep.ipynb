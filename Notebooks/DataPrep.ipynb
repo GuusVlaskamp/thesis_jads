{
  "nbformat": 4,
  "nbformat_minor": 0,
  "metadata": {
    "colab": {
      "name": "DataPrep.ipynb",
      "provenance": [],
      "toc_visible": true
    },
    "kernelspec": {
      "name": "python3",
      "display_name": "Python 3"
    }
  },
  "cells": [
    {
      "cell_type": "markdown",
      "metadata": {
        "id": "DoY672vdcKbS"
      },
      "source": [
        "## Mount with your Google Drive"
      ]
    },
    {
      "cell_type": "code",
      "metadata": {
        "id": "pXFki5AzcL5N"
      },
      "source": [
        "from google.colab import drive\n",
        "drive.mount('/content/drive')"
      ],
      "execution_count": null,
      "outputs": []
    },
    {
      "cell_type": "markdown",
      "metadata": {
        "id": "AbpwL0BJVpSl"
      },
      "source": [
        "## MP4 to jpg"
      ]
    },
    {
      "cell_type": "code",
      "metadata": {
        "id": "p_kxfHLRXlV6"
      },
      "source": [
        "import sys \n",
        "import subprocess\n",
        "import cv2"
      ],
      "execution_count": null,
      "outputs": []
    },
    {
      "cell_type": "code",
      "metadata": {
        "id": "8dMeD0amW6gI"
      },
      "source": [
        "!rm -r /content/raw_data/\n",
        "!rm -r /content/video/\n",
        "\n",
        "!mkdir /content/raw_data/\n",
        "!mkdir /content/video/"
      ],
      "execution_count": null,
      "outputs": []
    },
    {
      "cell_type": "code",
      "metadata": {
        "colab": {
          "base_uri": "https://localhost:8080/"
        },
        "id": "8WiO2uisXgkl",
        "outputId": "096493f7-152f-412e-8514-44e21ba9d80d"
      },
      "source": [
        "!rm /content/video.mp4\n",
        "infile = '/content/verbij.ts'\n",
        "outfile = '/content/video.mp4'\n",
        "\n",
        "subprocess.run(['ffmpeg', '-i', infile, outfile])"
      ],
      "execution_count": null,
      "outputs": [
        {
          "output_type": "stream",
          "text": [
            "rm: cannot remove '/content/video.mp4': No such file or directory\n"
          ],
          "name": "stdout"
        },
        {
          "output_type": "execute_result",
          "data": {
            "text/plain": [
              "CompletedProcess(args=['ffmpeg', '-i', '/content/joined_verbij.ts', '/content/video.mp4'], returncode=0)"
            ]
          },
          "metadata": {
            "tags": []
          },
          "execution_count": 32
        }
      ]
    },
    {
      "cell_type": "code",
      "metadata": {
        "id": "fLA7XzzcrmNL",
        "colab": {
          "base_uri": "https://localhost:8080/"
        },
        "outputId": "9cb4b525-1b2d-459a-8c7c-7035666b9fe8"
      },
      "source": [
        "!ffmpeg -i /content/video.mp4 \\\n",
        "       -vf \"select='between(t,16,32)',setpts=N/FRAME_RATE/TB\" /content/video/out_test.mp4"
      ],
      "execution_count": null,
      "outputs": [
        {
          "output_type": "stream",
          "text": [
            "ffmpeg version 3.4.8-0ubuntu0.2 Copyright (c) 2000-2020 the FFmpeg developers\n",
            "  built with gcc 7 (Ubuntu 7.5.0-3ubuntu1~18.04)\n",
            "  configuration: --prefix=/usr --extra-version=0ubuntu0.2 --toolchain=hardened --libdir=/usr/lib/x86_64-linux-gnu --incdir=/usr/include/x86_64-linux-gnu --enable-gpl --disable-stripping --enable-avresample --enable-avisynth --enable-gnutls --enable-ladspa --enable-libass --enable-libbluray --enable-libbs2b --enable-libcaca --enable-libcdio --enable-libflite --enable-libfontconfig --enable-libfreetype --enable-libfribidi --enable-libgme --enable-libgsm --enable-libmp3lame --enable-libmysofa --enable-libopenjpeg --enable-libopenmpt --enable-libopus --enable-libpulse --enable-librubberband --enable-librsvg --enable-libshine --enable-libsnappy --enable-libsoxr --enable-libspeex --enable-libssh --enable-libtheora --enable-libtwolame --enable-libvorbis --enable-libvpx --enable-libwavpack --enable-libwebp --enable-libx265 --enable-libxml2 --enable-libxvid --enable-libzmq --enable-libzvbi --enable-omx --enable-openal --enable-opengl --enable-sdl2 --enable-libdc1394 --enable-libdrm --enable-libiec61883 --enable-chromaprint --enable-frei0r --enable-libopencv --enable-libx264 --enable-shared\n",
            "  libavutil      55. 78.100 / 55. 78.100\n",
            "  libavcodec     57.107.100 / 57.107.100\n",
            "  libavformat    57. 83.100 / 57. 83.100\n",
            "  libavdevice    57. 10.100 / 57. 10.100\n",
            "  libavfilter     6.107.100 /  6.107.100\n",
            "  libavresample   3.  7.  0 /  3.  7.  0\n",
            "  libswscale      4.  8.100 /  4.  8.100\n",
            "  libswresample   2.  9.100 /  2.  9.100\n",
            "  libpostproc    54.  7.100 / 54.  7.100\n",
            "Input #0, mov,mp4,m4a,3gp,3g2,mj2, from '/content/video.mp4':\n",
            "  Metadata:\n",
            "    major_brand     : isom\n",
            "    minor_version   : 512\n",
            "    compatible_brands: isomiso2avc1mp41\n",
            "    encoder         : Lavf57.83.100\n",
            "  Duration: 00:01:53.52, start: 0.000000, bitrate: 2192 kb/s\n",
            "    Stream #0:0(und): Video: h264 (High) (avc1 / 0x31637661), yuv420p, 1280x720, 2064 kb/s, 25 fps, 25 tbr, 12800 tbn, 50 tbc (default)\n",
            "    Metadata:\n",
            "      handler_name    : VideoHandler\n",
            "    Stream #0:1(eng): Audio: aac (LC) (mp4a / 0x6134706D), 48000 Hz, stereo, fltp, 123 kb/s (default)\n",
            "    Metadata:\n",
            "      handler_name    : SoundHandler\n",
            "Stream mapping:\n",
            "  Stream #0:0 -> #0:0 (h264 (native) -> h264 (libx264))\n",
            "  Stream #0:1 -> #0:1 (aac (native) -> aac (native))\n",
            "Press [q] to stop, [?] for help\n",
            "\u001b[1;36m[libx264 @ 0x55a1f0e3e800] \u001b[0musing cpu capabilities: MMX2 SSE2Fast SSSE3 SSE4.2 AVX FMA3 BMI2 AVX2\n",
            "\u001b[1;36m[libx264 @ 0x55a1f0e3e800] \u001b[0mprofile High, level 3.1\n",
            "\u001b[1;36m[libx264 @ 0x55a1f0e3e800] \u001b[0m264 - core 152 r2854 e9a5903 - H.264/MPEG-4 AVC codec - Copyleft 2003-2017 - http://www.videolan.org/x264.html - options: cabac=1 ref=3 deblock=1:0:0 analyse=0x3:0x113 me=hex subme=7 psy=1 psy_rd=1.00:0.00 mixed_ref=1 me_range=16 chroma_me=1 trellis=1 8x8dct=1 cqm=0 deadzone=21,11 fast_pskip=1 chroma_qp_offset=-2 threads=3 lookahead_threads=1 sliced_threads=0 nr=0 decimate=1 interlaced=0 bluray_compat=0 constrained_intra=0 bframes=3 b_pyramid=2 b_adapt=1 b_bias=0 direct=1 weightb=1 open_gop=0 weightp=2 keyint=250 keyint_min=25 scenecut=40 intra_refresh=0 rc_lookahead=40 rc=crf mbtree=1 crf=23.0 qcomp=0.60 qpmin=0 qpmax=69 qpstep=4 ip_ratio=1.40 aq=1:1.00\n",
            "Output #0, mp4, to '/content/video/out_test.mp4':\n",
            "  Metadata:\n",
            "    major_brand     : isom\n",
            "    minor_version   : 512\n",
            "    compatible_brands: isomiso2avc1mp41\n",
            "    encoder         : Lavf57.83.100\n",
            "    Stream #0:0(und): Video: h264 (libx264) (avc1 / 0x31637661), yuv420p, 1280x720, q=-1--1, 25 fps, 12800 tbn, 25 tbc (default)\n",
            "    Metadata:\n",
            "      handler_name    : VideoHandler\n",
            "      encoder         : Lavc57.107.100 libx264\n",
            "    Side data:\n",
            "      cpb: bitrate max/min/avg: 0/0/0 buffer size: 0 vbv_delay: -1\n",
            "    Stream #0:1(eng): Audio: aac (LC) (mp4a / 0x6134706D), 48000 Hz, stereo, fltp, 128 kb/s (default)\n",
            "    Metadata:\n",
            "      handler_name    : SoundHandler\n",
            "      encoder         : Lavc57.107.100 aac\n",
            "frame=  401 fps= 11 q=-1.0 Lsize=    6071kB time=00:01:53.49 bitrate= 438.2kbits/s speed= 3.1x    \n",
            "video:4320kB audio:1723kB subtitle:0kB other streams:0kB global headers:0kB muxing overhead: 0.472315%\n",
            "\u001b[1;36m[libx264 @ 0x55a1f0e3e800] \u001b[0mframe I:4     Avg QP:21.64  size: 56454\n",
            "\u001b[1;36m[libx264 @ 0x55a1f0e3e800] \u001b[0mframe P:324   Avg QP:23.86  size: 12108\n",
            "\u001b[1;36m[libx264 @ 0x55a1f0e3e800] \u001b[0mframe B:73    Avg QP:27.65  size:  3756\n",
            "\u001b[1;36m[libx264 @ 0x55a1f0e3e800] \u001b[0mconsecutive B-frames: 72.6%  7.5%  6.0% 14.0%\n",
            "\u001b[1;36m[libx264 @ 0x55a1f0e3e800] \u001b[0mmb I  I16..4: 16.6% 49.2% 34.2%\n",
            "\u001b[1;36m[libx264 @ 0x55a1f0e3e800] \u001b[0mmb P  I16..4:  7.5% 10.8%  2.4%  P16..4: 38.1%  9.1%  2.3%  0.0%  0.0%    skip:29.7%\n",
            "\u001b[1;36m[libx264 @ 0x55a1f0e3e800] \u001b[0mmb B  I16..4:  0.7%  0.7%  0.3%  B16..8: 39.5%  4.5%  0.8%  direct: 0.8%  skip:52.6%  L0:58.3% L1:37.8% BI: 3.9%\n",
            "\u001b[1;36m[libx264 @ 0x55a1f0e3e800] \u001b[0m8x8 transform intra:51.8% inter:65.5%\n",
            "\u001b[1;36m[libx264 @ 0x55a1f0e3e800] \u001b[0mcoded y,uvDC,uvAC intra: 35.9% 49.7% 13.3% inter: 9.4% 14.3% 1.5%\n",
            "\u001b[1;36m[libx264 @ 0x55a1f0e3e800] \u001b[0mi16 v,h,dc,p: 14% 60%  8% 18%\n",
            "\u001b[1;36m[libx264 @ 0x55a1f0e3e800] \u001b[0mi8 v,h,dc,ddl,ddr,vr,hd,vl,hu: 24% 43% 19%  2%  2%  2%  3%  2%  3%\n",
            "\u001b[1;36m[libx264 @ 0x55a1f0e3e800] \u001b[0mi4 v,h,dc,ddl,ddr,vr,hd,vl,hu: 18% 45% 14%  3%  4%  3%  6%  3%  4%\n",
            "\u001b[1;36m[libx264 @ 0x55a1f0e3e800] \u001b[0mi8c dc,h,v,p: 48% 37% 10%  4%\n",
            "\u001b[1;36m[libx264 @ 0x55a1f0e3e800] \u001b[0mWeighted P-Frames: Y:0.0% UV:0.0%\n",
            "\u001b[1;36m[libx264 @ 0x55a1f0e3e800] \u001b[0mref P L0: 83.2% 10.0%  4.9%  1.8%\n",
            "\u001b[1;36m[libx264 @ 0x55a1f0e3e800] \u001b[0mref B L0: 92.7%  6.1%  1.2%\n",
            "\u001b[1;36m[libx264 @ 0x55a1f0e3e800] \u001b[0mref B L1: 98.6%  1.4%\n",
            "\u001b[1;36m[libx264 @ 0x55a1f0e3e800] \u001b[0mkb/s:2205.99\n",
            "\u001b[1;36m[aac @ 0x55a1f0e3f700] \u001b[0mQavg: 3252.486\n"
          ],
          "name": "stdout"
        }
      ]
    },
    {
      "cell_type": "code",
      "metadata": {
        "id": "CrAS0Udgranx"
      },
      "source": [
        "def extractImagesAll(pathIn, pathOut):\n",
        "    count = 0 #0\n",
        "    vidcap = cv2.VideoCapture(pathIn)\n",
        "    success,image = vidcap.read()\n",
        "    success = True\n",
        "    while success:\n",
        "        cv2.imwrite( pathOut + \"frame_%d.jpg\" % count, image)     \n",
        "        success,image = vidcap.read()\n",
        "        count = count + 1"
      ],
      "execution_count": null,
      "outputs": []
    },
    {
      "cell_type": "code",
      "metadata": {
        "id": "5W4TURhRVj5h"
      },
      "source": [
        "extractImagesAll('/content/video/out_test.mp4', '/content/raw_data/')"
      ],
      "execution_count": null,
      "outputs": []
    },
    {
      "cell_type": "code",
      "metadata": {
        "colab": {
          "base_uri": "https://localhost:8080/"
        },
        "id": "WIj6EYSRauNd",
        "outputId": "ed37e6b2-46c3-4dd7-beea-08791e05f6f2"
      },
      "source": [
        "%cd /content/raw_data\n",
        "!find -type f -name '*.jpg'| wc -l\n",
        "!ls > test.txt"
      ],
      "execution_count": null,
      "outputs": [
        {
          "output_type": "stream",
          "text": [
            "/content/raw_data\n",
            "398\n"
          ],
          "name": "stdout"
        }
      ]
    },
    {
      "cell_type": "code",
      "metadata": {
        "id": "2PclSAx9kINU"
      },
      "source": [
        "!sed -i -e 's#^#data/test_video_frames/#' /content/raw_data/test.txt\n",
        "!sed -i '$ d' /content/raw_data/test.txt"
      ],
      "execution_count": null,
      "outputs": []
    }
  ]
}